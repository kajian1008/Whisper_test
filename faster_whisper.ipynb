{
  "nbformat": 4,
  "nbformat_minor": 0,
  "metadata": {
    "colab": {
      "provenance": [],
      "gpuType": "T4",
      "authorship_tag": "ABX9TyPPQlrnAG6LnY+PvLRfHH1K",
      "include_colab_link": true
    },
    "kernelspec": {
      "name": "python3",
      "display_name": "Python 3"
    },
    "language_info": {
      "name": "python"
    },
    "accelerator": "GPU"
  },
  "cells": [
    {
      "cell_type": "markdown",
      "metadata": {
        "id": "view-in-github",
        "colab_type": "text"
      },
      "source": [
        "<a href=\"https://colab.research.google.com/github/kajian1008/Whisper_test/blob/main/faster_whisper.ipynb\" target=\"_parent\"><img src=\"https://colab.research.google.com/assets/colab-badge.svg\" alt=\"Open In Colab\"/></a>"
      ]
    },
    {
      "cell_type": "code",
      "execution_count": null,
      "metadata": {
        "collapsed": true,
        "id": "E7ZY1AFZZ01a"
      },
      "outputs": [],
      "source": [
        "!pip install faster-whisper"
      ]
    },
    {
      "cell_type": "code",
      "source": [
        "from faster_whisper import WhisperModel"
      ],
      "metadata": {
        "id": "qafvMlS5aPuF"
      },
      "execution_count": null,
      "outputs": []
    },
    {
      "cell_type": "code",
      "source": [
        "model_size = \"large-v3\""
      ],
      "metadata": {
        "id": "KgFYj_reaV0U"
      },
      "execution_count": null,
      "outputs": []
    },
    {
      "cell_type": "code",
      "source": [
        "model = WhisperModel(model_size, device=\"cuda\", compute_type=\"float16\")"
      ],
      "metadata": {
        "id": "QPNGeEenaY8z"
      },
      "execution_count": null,
      "outputs": []
    },
    {
      "cell_type": "code",
      "source": [
        "dictionary =  \"ここに辞書を追加\""
      ],
      "metadata": {
        "id": "NCng-Ro-dCWl"
      },
      "execution_count": null,
      "outputs": []
    },
    {
      "cell_type": "code",
      "source": [
        "segments, info = model.transcribe(\"/content/音声ファイル名.mp3\",initial_prompt = dictionary, beam_size=5)"
      ],
      "metadata": {
        "id": "9jPWVXMDarL0"
      },
      "execution_count": null,
      "outputs": []
    },
    {
      "cell_type": "code",
      "source": [
        "print(\"Detected language '%s' with probability %f\" % (info.language, info.language_probability))"
      ],
      "metadata": {
        "id": "CjG27lB2bwSu"
      },
      "execution_count": null,
      "outputs": []
    },
    {
      "cell_type": "code",
      "source": [
        "for segment in segments:\n",
        "    print(\"[%.2fs -> %.2fs] %s\" % (segment.start, segment.end, segment.text))"
      ],
      "metadata": {
        "id": "Nd4AwXH2b1IF"
      },
      "execution_count": null,
      "outputs": []
    }
  ]
}
