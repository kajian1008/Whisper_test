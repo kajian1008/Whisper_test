{
  "nbformat": 4,
  "nbformat_minor": 0,
  "metadata": {
    "colab": {
      "provenance": [],
      "machine_shape": "hm",
      "gpuType": "A100",
      "authorship_tag": "ABX9TyPuyVf7AILXCcgUjsApsqA/",
      "include_colab_link": true
    },
    "kernelspec": {
      "name": "python3",
      "display_name": "Python 3"
    },
    "language_info": {
      "name": "python"
    },
    "accelerator": "GPU"
  },
  "cells": [
    {
      "cell_type": "markdown",
      "metadata": {
        "id": "view-in-github",
        "colab_type": "text"
      },
      "source": [
        "<a href=\"https://colab.research.google.com/github/kajian1008/Whisper_test/blob/main/tuning.ipynb\" target=\"_parent\"><img src=\"https://colab.research.google.com/assets/colab-badge.svg\" alt=\"Open In Colab\"/></a>"
      ]
    },
    {
      "cell_type": "code",
      "execution_count": null,
      "metadata": {
        "id": "SK8JvH3oPj5P"
      },
      "outputs": [],
      "source": [
        "from google.colab import drive\n",
        "drive.mount('/content/drive')"
      ]
    },
    {
      "cell_type": "code",
      "source": [
        "!pip install datasets>=2.6.1\n",
        "!pip install accelerate -U\n",
        "!pip install transformers[torch]\n",
        "!pip install librosa\n",
        "!pip install evaluate>=0.30\n",
        "!pip install jiwer\n",
        "!pip install gradio\n",
        "!pip install whisper\n",
        "!pip install pandas\n",
        "!pip install pyarrow==14.0.1"
      ],
      "metadata": {
        "id": "cMoUHL5LnY7h",
        "collapsed": true
      },
      "execution_count": null,
      "outputs": []
    },
    {
      "cell_type": "code",
      "source": [
        "import pandas as pd\n",
        "\n",
        "# CSVファイルのパス\n",
        "file_path = '/content/drive/MyDrive/ja_voice_finetuning/train0.csv'\n",
        "\n",
        "# CSVファイルを読み込む\n",
        "df = pd.read_csv(file_path)"
      ],
      "metadata": {
        "id": "nfcmCWAhQCBn"
      },
      "execution_count": null,
      "outputs": []
    },
    {
      "cell_type": "code",
      "source": [
        "df"
      ],
      "metadata": {
        "id": "8echIL82QC94"
      },
      "execution_count": null,
      "outputs": []
    },
    {
      "cell_type": "code",
      "source": [
        "import numpy as np\n",
        "from datasets import Dataset, Audio\n",
        "\n",
        "msk = np.random.rand(len(df)) < 0.7\n",
        "\n",
        "train_dataset = Dataset.from_pandas(df[msk]).cast_column(\"path\", Audio(sampling_rate=16000)).rename_column(\"path\", \"audio\").remove_columns([\"sampling_rate\"])\n",
        "validate_dataset = Dataset.from_pandas(df[~msk]).cast_column(\"path\", Audio(sampling_rate=16000)).rename_column(\"path\", \"audio\").remove_columns([\"sampling_rate\"])\n",
        "\n",
        "# データセットをCSVファイルに保存\n",
        "train_df = train_dataset.to_pandas()\n",
        "validate_df = validate_dataset.to_pandas()\n",
        "\n",
        "train_df.to_csv('/content/drive/MyDrive/ja_voice_finetuning/train.csv', index=False)\n",
        "validate_df.to_csv('/content/drive/MyDrive/ja_voice_finetuning/validate.csv', index=False)"
      ],
      "metadata": {
        "id": "GlGC-eggQO51"
      },
      "execution_count": null,
      "outputs": []
    },
    {
      "cell_type": "code",
      "source": [
        "from datasets import DatasetDict\n",
        "\n",
        "datasets = DatasetDict({\n",
        "    \"train\": train_dataset,\n",
        "    \"validate\": validate_dataset\n",
        "})"
      ],
      "metadata": {
        "id": "tGmxiTAnQYez"
      },
      "execution_count": null,
      "outputs": []
    },
    {
      "cell_type": "code",
      "source": [
        "from transformers import WhisperProcessor\n",
        "processor = WhisperProcessor.from_pretrained(\"openai/whisper-large-v3-turbo\", language=\"Japanese\", task=\"transcribe\")"
      ],
      "metadata": {
        "id": "-MDsPyomQciG"
      },
      "execution_count": null,
      "outputs": []
    },
    {
      "cell_type": "code",
      "source": [
        "def prepare_dataset(batch):\n",
        "    audio = batch[\"audio\"]\n",
        "\n",
        "    # 音響特徴量抽出\n",
        "    batch[\"input_features\"] = processor.feature_extractor(audio[\"array\"], sampling_rate=audio[\"sampling_rate\"]).input_features[0]\n",
        "\n",
        "    # 正解のテキストをlabel idにエンコード\n",
        "    batch[\"labels\"] = processor.tokenizer(batch[\"correct\"]).input_ids\n",
        "    return batch"
      ],
      "metadata": {
        "id": "uTNHuVkHQqng"
      },
      "execution_count": null,
      "outputs": []
    },
    {
      "cell_type": "code",
      "source": [
        "prepared_datasets = datasets.map(prepare_dataset, num_proc=1)"
      ],
      "metadata": {
        "id": "GUI-b9VKQwCy"
      },
      "execution_count": null,
      "outputs": []
    },
    {
      "cell_type": "code",
      "source": [
        "import torch\n",
        "\n",
        "from dataclasses import dataclass\n",
        "from typing import Any, Dict, List, Union\n",
        "\n",
        "@dataclass\n",
        "class DataCollatorSpeechSeq2SeqWithPadding:\n",
        "    processor: Any\n",
        "\n",
        "    def __call__(self, features: List[Dict[str, Union[List[int]\n",
        "        , torch.Tensor]]]) -> Dict[str, torch.Tensor]:\n",
        "\n",
        "        # 音響特徴量側をまとめる処理\n",
        "        # (一応バッチ単位でパディングしているが、すべて30秒分であるはず)\n",
        "        input_features \\\n",
        "            = [{\"input_features\": feature[\"input_features\"]} for feature in features]\n",
        "        batch = self.processor.feature_extractor.pad(input_features, return_tensors=\"pt\")\n",
        "        # トークン化された系列をバッチ単位でパディング\n",
        "        label_features = [{\"input_ids\": feature[\"labels\"]} for feature in features]\n",
        "        labels_batch = self.processor.tokenizer.pad(label_features, return_tensors=\"pt\")\n",
        "\n",
        "        # attention_maskが0の部分は、トークンを-100に置き換えてロス計算時に無視させる\n",
        "        # -100を無視するのは、PyTorchの仕様\n",
        "        labels \\\n",
        "            = labels_batch[\"input_ids\"].masked_fill(labels_batch.attention_mask.ne(1), -100)\n",
        "\n",
        "        # BOSトークンがある場合は削除\n",
        "        if (labels[:, 0] == self.processor.tokenizer.bos_token_id).all().cpu().item():\n",
        "            labels = labels[:, 1:]\n",
        "\n",
        "        # 整形したlabelsをバッチにまとめる\n",
        "        batch[\"labels\"] = labels\n",
        "\n",
        "        return batch"
      ],
      "metadata": {
        "id": "wca7z5ZDQ1jQ"
      },
      "execution_count": null,
      "outputs": []
    },
    {
      "cell_type": "code",
      "source": [
        "data_collator = DataCollatorSpeechSeq2SeqWithPadding(processor=processor)"
      ],
      "metadata": {
        "id": "rXBpw9wbRAes"
      },
      "execution_count": null,
      "outputs": []
    },
    {
      "cell_type": "code",
      "source": [
        "!pip install ja-ginza\n",
        "!pip install sortedcontainers~=2.1.0\n",
        "!pip install spacy\n",
        "import pkg_resources, imp\n",
        "imp.reload(pkg_resources)"
      ],
      "metadata": {
        "id": "dd7bGUvJRDNo"
      },
      "execution_count": null,
      "outputs": []
    },
    {
      "cell_type": "code",
      "source": [
        "import evaluate\n",
        "import spacy\n",
        "import ginza\n",
        "\n",
        "metric = evaluate.load(\"wer\")\n",
        "nlp = spacy.load(\"ja_ginza\")\n",
        "ginza.set_split_mode(nlp, \"C\") # CはNEologdの意らしいです\n",
        "\n",
        "def compute_metrics(pred):\n",
        "    pred_ids = pred.predictions\n",
        "    label_ids = pred.label_ids\n",
        "\n",
        "    # replace -100 with the pad_token_id\n",
        "    label_ids[label_ids == -100] = processor.tokenizer.pad_token_id\n",
        "\n",
        "    # we do not want to group tokens when computing the metrics\n",
        "    pred_str = processor.tokenizer.batch_decode(pred_ids, skip_special_tokens=True)\n",
        "    label_str = processor.tokenizer.batch_decode(label_ids, skip_special_tokens=True)\n",
        "\n",
        "    # 分かち書きして空白区切りに変換\n",
        "    pred_str = [\" \".join([ str(i) for i in nlp(j) ]) for j in pred_str]\n",
        "    label_str = [\" \".join([ str(i) for i in nlp(j) ]) for j in label_str]\n",
        "\n",
        "    wer = 100 * metric.compute(predictions=pred_str, references=label_str)\n",
        "\n",
        "    return {\"wer\": wer}"
      ],
      "metadata": {
        "id": "lj6s8C_lRH-6"
      },
      "execution_count": null,
      "outputs": []
    },
    {
      "cell_type": "code",
      "source": [
        "from transformers import Seq2SeqTrainingArguments\n",
        "\n",
        "training_args = Seq2SeqTrainingArguments(\n",
        "    output_dir=\"./whisper-turbo-ja\",  # change to a repo name of your choice\n",
        "    per_device_train_batch_size=16,\n",
        "    gradient_accumulation_steps=1,   # increase by 2x for every 2x decrease in batch size\n",
        "    learning_rate=1e-5,\n",
        "    # warmup_steps=500, # Hugging Faceブログではこちら\n",
        "    warmup_steps=5,\n",
        "    # max_steps=4000, # Hugging Faceブログではこちら\n",
        "    max_steps=40,\n",
        "    gradient_checkpointing=True,\n",
        "    fp16=True,\n",
        "    group_by_length=True,\n",
        "    evaluation_strategy=\"steps\",\n",
        "    per_device_eval_batch_size=8,\n",
        "    predict_with_generate=True,\n",
        "    generation_max_length=225,\n",
        "    # save_steps=1000, # Hugging Faceブログではこちら\n",
        "    save_steps=10,\n",
        "    # eval_steps=1000, # Hugging Faceブログではこちら\n",
        "    eval_steps=10,\n",
        "    logging_steps=25,\n",
        "    report_to=[\"tensorboard\"],\n",
        "    load_best_model_at_end=True,\n",
        "    metric_for_best_model=\"wer\",\n",
        "    greater_is_better=False,\n",
        "    push_to_hub=False,\n",
        ")\n"
      ],
      "metadata": {
        "id": "P5G9d3uxTDOj"
      },
      "execution_count": null,
      "outputs": []
    },
    {
      "cell_type": "code",
      "source": [
        "from transformers import Seq2SeqTrainer\n",
        "from transformers import WhisperForConditionalGeneration\n",
        "\n",
        "model = WhisperForConditionalGeneration.from_pretrained(\"openai/whisper-large-v3-turbo\")\n",
        "\n",
        "model.generation_config.language = \"ja\"\n",
        "\n",
        "\n",
        "trainer = Seq2SeqTrainer(\n",
        "    args=training_args,\n",
        "    model=model,\n",
        "    train_dataset=prepared_datasets[\"train\"],\n",
        "    eval_dataset=prepared_datasets[\"validate\"],\n",
        "    data_collator=data_collator,\n",
        "    compute_metrics=compute_metrics,\n",
        "    tokenizer=processor.feature_extractor,\n",
        ")"
      ],
      "metadata": {
        "id": "64UPiGoPRW5D"
      },
      "execution_count": null,
      "outputs": []
    },
    {
      "cell_type": "code",
      "source": [
        "# prediction_output = trainer.predict(prepared_datasets[\"validate\"]).metrics[\"test_wer\"]\n",
        "\n",
        "import pandas as pd\n",
        "pd.DataFrame([\n",
        "    {\"split\":\"train\"\n",
        "        , \"wer\":  trainer.predict(prepared_datasets[\"train\"]).metrics[\"test_wer\"]},\n",
        "    {\"split\":\"validation\"\n",
        "        , \"wer\": trainer.predict(prepared_datasets[\"validate\"]).metrics[\"test_wer\"]}\n",
        "]\n",
        "    )"
      ],
      "metadata": {
        "id": "CdzanuhiYoaM"
      },
      "execution_count": null,
      "outputs": []
    },
    {
      "cell_type": "code",
      "source": [
        "trainer.train()"
      ],
      "metadata": {
        "id": "rH-0LpFjR97u",
        "collapsed": true
      },
      "execution_count": null,
      "outputs": []
    },
    {
      "cell_type": "code",
      "source": [
        "import pandas as pd\n",
        "pd.DataFrame([\n",
        "    {\"split\":\"train\"\n",
        "        , \"wer\":  trainer.predict(prepared_datasets[\"train\"]).metrics[\"test_wer\"]},\n",
        "    {\"split\":\"validation\"\n",
        "        , \"wer\": trainer.predict(prepared_datasets[\"validate\"]).metrics[\"test_wer\"]}\n",
        "]\n",
        "    )"
      ],
      "metadata": {
        "id": "gYw9k9H1WPX3"
      },
      "execution_count": null,
      "outputs": []
    },
    {
      "cell_type": "code",
      "source": [
        "# モデルの保存\n",
        "trainer.save_model(\"/content/drive/MyDrive/ja_voice_finetuning/models\")\n",
        "\n",
        "# プロセッサ（トークナイザー）の保存\n",
        "processor.save_pretrained(\"/content/drive/MyDrive/ja_voice_finetuning/models\")"
      ],
      "metadata": {
        "id": "9LjkQ6cf1fCR"
      },
      "execution_count": null,
      "outputs": []
    }
  ]
}