{
  "nbformat": 4,
  "nbformat_minor": 0,
  "metadata": {
    "colab": {
      "provenance": [],
      "gpuType": "A100",
      "mount_file_id": "1abBGq0c7XlVwsUw2iTmBabma1rO9nC-Q",
      "authorship_tag": "ABX9TyNsmfh9qBcuGmphPaJqN81j",
      "include_colab_link": true
    },
    "kernelspec": {
      "name": "python3",
      "display_name": "Python 3"
    },
    "language_info": {
      "name": "python"
    },
    "accelerator": "GPU"
  },
  "cells": [
    {
      "cell_type": "markdown",
      "metadata": {
        "id": "view-in-github",
        "colab_type": "text"
      },
      "source": [
        "<a href=\"https://colab.research.google.com/github/kajian1008/Whisper_test/blob/main/okoshite.ipynb\" target=\"_parent\"><img src=\"https://colab.research.google.com/assets/colab-badge.svg\" alt=\"Open In Colab\"/></a>"
      ]
    },
    {
      "cell_type": "code",
      "execution_count": null,
      "metadata": {
        "id": "gMoUZKSnhIq0"
      },
      "outputs": [],
      "source": [
        "!pip install transformers librosa pydub\n",
        "!apt-get install ffmpeg"
      ]
    },
    {
      "cell_type": "code",
      "source": [
        "import os\n",
        "import glob\n",
        "import torch\n",
        "from transformers import WhisperForConditionalGeneration, WhisperProcessor\n",
        "import librosa\n",
        "from pydub import AudioSegment"
      ],
      "metadata": {
        "id": "XJB3YynThkhE"
      },
      "execution_count": null,
      "outputs": []
    },
    {
      "cell_type": "code",
      "source": [
        "model_path = \"/content/drive/MyDrive/models100+\"\n",
        "device = 'cuda' if torch.cuda.is_available() else 'cpu'\n",
        "model = WhisperForConditionalGeneration.from_pretrained(model_path).to(device)\n",
        "processor = WhisperProcessor.from_pretrained(model_path)"
      ],
      "metadata": {
        "id": "m7MhSqJPhmVN"
      },
      "execution_count": null,
      "outputs": []
    },
    {
      "cell_type": "code",
      "source": [
        "def split_audio(file_path, segment_length=30):\n",
        "    audio = AudioSegment.from_file(file_path)\n",
        "    segments = []\n",
        "\n",
        "    for start in range(0, len(audio), segment_length * 1000):\n",
        "        end = min(start + segment_length * 1000, len(audio))\n",
        "        segment = audio[start:end]\n",
        "        segments.append(segment)\n",
        "\n",
        "    return segments"
      ],
      "metadata": {
        "id": "4HrGlSYyhpT_"
      },
      "execution_count": null,
      "outputs": []
    },
    {
      "cell_type": "code",
      "source": [
        "audio_files = glob.glob(\"/content/drive/MyDrive/*.mp3\")\n",
        "os.makedirs(\"/content/drive/MyDrive/テキスト\", exist_ok=True)\n",
        "\n",
        "for input_audio_file in audio_files:\n",
        "    print(f\"Processing: {input_audio_file}\")\n",
        "    segments = split_audio(input_audio_file)\n",
        "    full_transcription = []\n",
        "\n",
        "    for i, segment in enumerate(segments):\n",
        "        segment_file_path = f\"/content/drive/MyDrive/テキスト/temp_segment_{i}.mp3\"\n",
        "        segment.export(segment_file_path, format=\"mp3\")\n",
        "\n",
        "        try:\n",
        "            audio_data, sampling_rate = librosa.load(segment_file_path, sr=16000)\n",
        "            inputs = processor(audio_data, return_tensors=\"pt\", sampling_rate=sampling_rate).to(device)\n",
        "            outputs = model.generate(**inputs)\n",
        "            transcription = processor.batch_decode(outputs, skip_special_tokens=True)\n",
        "            clean_transcription = [text.replace(\"['\", \"\").replace(\"']\", \"\") for text in transcription]\n",
        "            full_transcription.extend(clean_transcription)\n",
        "            os.remove(segment_file_path)\n",
        "        except Exception as e:\n",
        "            print(f\"Error processing segment {i} of {input_audio_file}: {e}\")\n",
        "\n",
        "    text_file_name = f\"/content/drive/MyDrive/テキスト/{os.path.basename(input_audio_file).split('.')[0]}.txt\"\n",
        "    with open(text_file_name, \"w\", encoding=\"utf-8\") as f:\n",
        "        for line in full_transcription:\n",
        "            f.write(line + \"\\n\")\n",
        "    print(f\"{text_file_name} に文字起こしを保存しました。\")\n",
        "    os.remove(input_audio_file)\n",
        "\n",
        "print(\"すべてのファイルの処理が完了しました。\")"
      ],
      "metadata": {
        "id": "tDXNWxBahq6u"
      },
      "execution_count": null,
      "outputs": []
    }
  ]
}